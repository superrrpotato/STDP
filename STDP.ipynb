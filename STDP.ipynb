{
 "cells": [
  {
   "cell_type": "code",
   "execution_count": 2,
   "metadata": {},
   "outputs": [],
   "source": [
    "import numpy as np\n",
    "import matplotlib.pyplot as plt"
   ]
  },
  {
   "cell_type": "code",
   "execution_count": null,
   "metadata": {},
   "outputs": [],
   "source": [
    "import yaml\n",
    "\n",
    "class parse(object):\n",
    "    def __init__(self, path):\n",
    "        with open(path, 'r') as file:\n",
    "            self.parameters = yaml.safe_load(file)\n",
    "\n",
    "    def __getitem__(self, key):\n",
    "        return self.parameters[key]\n",
    "\n",
    "    def save(self, filename):\n",
    "        with open(filename, 'w') as f:\n",
    "            yaml.dump(self.parameters, f)"
   ]
  },
  {
   "cell_type": "code",
   "execution_count": null,
   "metadata": {},
   "outputs": [],
   "source": [
    "class neuron:\n",
    "    def __init__(self, init_params):\n",
    "        self.time_steps = init_params['time_steps']\n",
    "        self.membrane = np.zeros(time_steps)\n",
    "        self.spike_train = np.zeros(time_steps)\n",
    "        self.threshold = init_params['threshold']\n",
    "        if init_params['func_type'] = 'exp':\n",
    "            self.rho_0 = 1/np.exp(self.threshold)\n",
    "\n",
    "class recurrent_network:\n",
    "    def __init__(self, init_params):\n",
    "        self.neurons_list = [neuron(init_params)]*10"
   ]
  },
  {
   "cell_type": "code",
   "execution_count": 5,
   "metadata": {},
   "outputs": [
    {
     "data": {
      "text/plain": [
       "0.36787944117144233"
      ]
     },
     "execution_count": 5,
     "metadata": {},
     "output_type": "execute_result"
    }
   ],
   "source": []
  },
  {
   "cell_type": "code",
   "execution_count": null,
   "metadata": {},
   "outputs": [],
   "source": []
  }
 ],
 "metadata": {
  "kernelspec": {
   "display_name": "Python 3",
   "language": "python",
   "name": "python3"
  },
  "language_info": {
   "codemirror_mode": {
    "name": "ipython",
    "version": 3
   },
   "file_extension": ".py",
   "mimetype": "text/x-python",
   "name": "python",
   "nbconvert_exporter": "python",
   "pygments_lexer": "ipython3",
   "version": "3.7.1"
  }
 },
 "nbformat": 4,
 "nbformat_minor": 2
}
