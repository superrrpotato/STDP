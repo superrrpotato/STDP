{
 "cells": [
  {
   "cell_type": "code",
   "execution_count": 1,
   "metadata": {},
   "outputs": [],
   "source": [
    "import numpy as np\n",
    "import matplotlib.pyplot as plt"
   ]
  },
  {
   "cell_type": "code",
   "execution_count": 161,
   "metadata": {},
   "outputs": [],
   "source": [
    "import yaml\n",
    "\n",
    "class parse(object):\n",
    "    def __init__(self, path):\n",
    "        with open(path, 'r') as file:\n",
    "            self.parameters = yaml.safe_load(file)\n",
    "\n",
    "    def __getitem__(self, key):\n",
    "        return self.parameters[key]\n",
    "\n",
    "    def save(self, filename):\n",
    "        with open(filename, 'w') as f:\n",
    "            yaml.dump(self.parameters, f)\n",
    "param = parse('./config/test.yaml')"
   ]
  },
  {
   "cell_type": "code",
   "execution_count": 315,
   "metadata": {},
   "outputs": [],
   "source": [
    "# class neuron:\n",
    "#     def __init__(self, init_params):\n",
    "#         self.time_steps = init_params['time_steps']\n",
    "#         self.membrane = np.zeros(self.time_steps)\n",
    "#         self.spike_train = np.zeros(self.time_steps)\n",
    "#         self.threshold = init_params['threshold']\n",
    "#         if init_params['func_type'] == 'exp':\n",
    "#             self.rho_0 = 1/np.exp(self.threshold)\n",
    "\n",
    "class recurrent_network:\n",
    "    def __init__(self, init_params):\n",
    "        self.dtype = np.float32\n",
    "        self.time_steps = init_params['time_steps']\n",
    "        self.neuron_num = init_params['neuron_num']\n",
    "        self.threshold = init_params['threshold']\n",
    "        if init_params['func_type'] == 'exp':\n",
    "            self.delta_mem = init_params['delta_mem']\n",
    "            self.rho_0 = 1\n",
    "        self.weight_matrix = np.random.normal(size=(self.neuron_num, self.neuron_num)).astype(self.dtype)*0.3\n",
    "        row, col = np.diag_indices_from(self.weight_matrix)\n",
    "        self.weight_matrix[row,col] = -self.threshold\n",
    "        self.input_weight = np.random.normal(size=(self.neuron_num)).astype(self.dtype)*0.3\n",
    "        self.membrane_potentials = np.zeros((self.neuron_num, self.time_steps), dtype=self.dtype)\n",
    "        self.firing_rate = np.zeros((self.neuron_num, self.time_steps), dtype=self.dtype)\n",
    "        self.spike_train = np.zeros((self.neuron_num, self.time_steps), dtype=np.int8)\n",
    "        self.input = np.random.normal(size=(self.neuron_num, self.time_steps)).astype(self.dtype)*0.1\n",
    "        self.psc = np.zeros((self.neuron_num, self.time_steps), dtype=self.dtype)\n",
    "        self.tau_mem = init_params['tau_mem']\n",
    "        self.mem_decay = 1 - 1/self.tau_mem\n",
    "        self.tau_psc = init_params['tau_psc']\n",
    "        self.psc_decay = 1 - 1/self.tau_psc\n",
    "    def plot(self):\n",
    "        fsize = 15\n",
    "        size_factor = 0.06\n",
    "        total_plots = 5\n",
    "        name_list = ['membrane_potentials','firing_rate','spike_train','input','psc']\n",
    "        value_list = [self.membrane_potentials,np.clip(self.firing_rate,0,3),self.spike_train,self.input,self.psc]\n",
    "        plt.figure(figsize=(30,3))\n",
    "#         plt.subplot(1,6,1)\n",
    "        plt.imshow(self.weight_matrix)\n",
    "        plt.title('weight_matrix', fontsize = fsize)\n",
    "        for i in range(total_plots):\n",
    "            plt.figure(figsize=(self.time_steps*size_factor, self.neuron_num*size_factor))\n",
    "#             plt.subplot(1,6,i+2)\n",
    "            plt.imshow(value_list[i])\n",
    "            plt.title(name_list[i], fontsize = fsize)\n",
    "    def forward(self):\n",
    "        temp_mem = np.zeros(a.neuron_num)\n",
    "        temp_psc = np.zeros(a.neuron_num)\n",
    "        for t in range(self.time_steps):\n",
    "            temp_mem = temp_mem*self.mem_decay + np.matmul(self.input[:,t].T,self.input_weight) + np.matmul(temp_psc.T, self.weight_matrix)\n",
    "            self.membrane_potentials[:,t] = temp_mem.copy()\n",
    "            self.firing_rate[:,t] = self.rho_0 * np.exp((self.membrane_potentials[:,t]-self.threshold)/self.delta_mem)\n",
    "            prob = np.random.uniform(size=self.neuron_num)\n",
    "            self.spike_train[:,t] = (self.firing_rate[:,t] > prob)\n",
    "            self.psc[:,t] = temp_psc * self.psc_decay + 1/self.tau_psc * self.spike_train[:,t]\n",
    "            temp_psc = self.psc[:,t]\n",
    "    def STDP(self):\n",
    "        self.weight_update = np.ones(shape=(20,20),dtype=np.float32)\n",
    "        window_length = 5\n",
    "        window_t = np.arange(-window_length,window_length+1,1)\n",
    "        STDP_func = 0.42*np.exp(-window_t**2/(10))*(np.sign(window_t)+0.5)\n",
    "        STDP_repete = np.empty((self.neuron_num,2*window_length+1),dtype=np.float32)\n",
    "        STDP_repete[:]=STDP_func\n",
    "        pad_spikes = np.pad(self.spike_train,((0,0),(window_length,window_length)),'constant')\n",
    "        for i in range(self.time_steps):\n",
    "            updates = 1 + pad_spikes[:,i:i+11] * STDP_repete\n",
    "            start_index = np.where(pad_spikes[:,i+5]==1)\n",
    "            updates = np.prod(updates,axis=1)\n",
    "            end_index = np.where(updates!=1)\n",
    "            self.weight_update[np.ix_(start_index[0],end_index[0])]*=updates[end_index]\n",
    "        row, col = np.diag_indices_from(self.weight_update)\n",
    "        self.weight_update[row,col] = 1.\n",
    "        self.weight_matrix*=self.weight_update\n",
    "    def STDP_plot(self):\n",
    "        plt.figure(figsize=(7,3))\n",
    "        plt.subplot(1,2,1)\n",
    "        plt.imshow(self.weight_matrix)\n",
    "        plt.title('new weight matrix')\n",
    "        plt.colorbar()\n",
    "        plt.subplot(1,2,2)\n",
    "        plt.imshow(self.weight_update)\n",
    "        plt.title('weight updating signal')\n",
    "        plt.colorbar()\n"
   ]
  },
  {
   "cell_type": "code",
   "execution_count": 316,
   "metadata": {
    "scrolled": false
   },
   "outputs": [
    {
     "data": {
      "image/png": "[encoded data removed]",
      "text/plain": [
       "<Figure size 504x216 with 4 Axes>"
      ]
     },
     "metadata": {
      "needs_background": "light"
     },
     "output_type": "display_data"
    }
   ],
   "source": [
    "a = recurrent_network(param)\n",
    "\n",
    "a.forward()\n",
    "# a.plot()\n",
    "a.STDP()\n",
    "a.STDP_plot()"
   ]
  },
  {
   "cell_type": "code",
   "execution_count": 235,
   "metadata": {},
   "outputs": [
    {
     "data": {
      "text/plain": [
       "<matplotlib.image.AxesImage at 0xb1debf860>"
      ]
     },
     "execution_count": 235,
     "metadata": {},
     "output_type": "execute_result"
    },
    {
     "data": {
      "text/plain": [
       "<Figure size 432x432 with 0 Axes>"
      ]
     },
     "metadata": {},
     "output_type": "display_data"
    },
    {
     "data": {
      "image/png": "[encoded data removed]",
      "text/plain": [
       "<Figure size 288x144 with 1 Axes>"
      ]
     },
     "metadata": {
      "needs_background": "light"
     },
     "output_type": "display_data"
    },
    {
     "data": {
      "image/png": "[encoded data removed]",
      "text/plain": [
       "<Figure size 108x108 with 1 Axes>"
      ]
     },
     "metadata": {
      "needs_background": "light"
     },
     "output_type": "display_data"
    },
    {
     "data": {
      "image/png": "[encoded data removed]",
      "text/plain": [
       "<Figure size 2160x144 with 1 Axes>"
      ]
     },
     "metadata": {
      "needs_background": "light"
     },
     "output_type": "display_data"
    }
   ],
   "source": [
    "x = np.arange(-10,10,0.1)\n",
    "y = 0.42*np.exp(-x**2/(10))*(np.sign(x)+0.5)\n",
    "plt.figure(figsize=(6,6))\n",
    "plt.figure(figsize=(4,2))\n",
    "plt.plot(x,y)\n",
    "\n",
    "x = np.arange(-10,10,1)\n",
    "y = np.exp(-x**2/(10))*(np.sign(x)+0.3)\n",
    "z = np.empty((20,20),dtype=np.float32)\n",
    "z[:]=y\n",
    "plt.figure(figsize=(1.5,1.5))\n",
    "plt.imshow(z)\n",
    "\n",
    "plt.figure(figsize=(30,2))\n",
    "plt.imshow(a.spike_train)\n"
   ]
  },
  {
   "cell_type": "code",
   "execution_count": 243,
   "metadata": {
    "scrolled": true
   },
   "outputs": [
    {
     "data": {
      "text/plain": [
       "<matplotlib.image.AxesImage at 0xb1f2940b8>"
      ]
     },
     "execution_count": 243,
     "metadata": {},
     "output_type": "execute_result"
    },
    {
     "data": {
      "image/png": "[encoded data removed]",
      "text/plain": [
       "<Figure size 432x288 with 1 Axes>"
      ]
     },
     "metadata": {
      "needs_background": "light"
     },
     "output_type": "display_data"
    }
   ],
   "source": [
    "plt.imshow(np.pad(np.random.random((5,10)),((0,0),(2,2)),'constant'))"
   ]
  },
  {
   "cell_type": "code",
   "execution_count": 245,
   "metadata": {},
   "outputs": [
    {
     "data": {
      "text/plain": [
       "array([[5, 6],\n",
       "       [8, 9]])"
      ]
     },
     "execution_count": 245,
     "metadata": {},
     "output_type": "execute_result"
    }
   ],
   "source": [
    "p = np.array([[1,2,3],[4,5,6],[7,8,9]])\n",
    "p[1:,1:]"
   ]
  },
  {
   "cell_type": "code",
   "execution_count": 284,
   "metadata": {},
   "outputs": [
    {
     "name": "stdout",
     "output_type": "stream",
     "text": [
      "[ 7  8 14]\n"
     ]
    }
   ],
   "source": [
    "print((start_index)[0])"
   ]
  },
  {
   "cell_type": "code",
   "execution_count": 287,
   "metadata": {},
   "outputs": [
    {
     "data": {
      "text/plain": [
       "<matplotlib.image.AxesImage at 0xb20ba8630>"
      ]
     },
     "execution_count": 287,
     "metadata": {},
     "output_type": "execute_result"
    },
    {
     "data": {
      "image/png": "[encoded data removed]",
      "text/plain": [
       "<Figure size 432x288 with 1 Axes>"
      ]
     },
     "metadata": {
      "needs_background": "light"
     },
     "output_type": "display_data"
    }
   ],
   "source": [
    "weight_update[np.ix_(start_index[0],end_index[0])]\n",
    "plt.imshow(weight_update)"
   ]
  },
  {
   "cell_type": "code",
   "execution_count": 298,
   "metadata": {},
   "outputs": [
    {
     "name": "stdout",
     "output_type": "stream",
     "text": [
      "[0 0 0 0 0 0 0 1 1 0 0 0 0 0 1 0 0 0 0 0]\n",
      "(array([ 7,  8, 14]),)\n",
      "(array([ 3,  7,  8, 12, 14, 15]),)\n",
      "[1.         1.         1.         1.1271948  1.         1.\n",
      " 1.         1.2561389  1.2561389  1.         1.         1.\n",
      " 0.80998415 1.         1.2561389  1.4223017  1.         1.\n",
      " 1.         1.        ]\n",
      "(6,)\n"
     ]
    },
    {
     "data": {
      "text/plain": [
       "<matplotlib.image.AxesImage at 0xb1e600780>"
      ]
     },
     "execution_count": 298,
     "metadata": {},
     "output_type": "execute_result"
    },
    {
     "data": {
      "image/png": "[encoded data removed]",
      "text/plain": [
       "<Figure size 432x288 with 1 Axes>"
      ]
     },
     "metadata": {
      "needs_background": "light"
     },
     "output_type": "display_data"
    },
    {
     "data": {
      "image/png": "[encoded data removed]",
      "text/plain": [
       "<Figure size 2160x144 with 1 Axes>"
      ]
     },
     "metadata": {
      "needs_background": "light"
     },
     "output_type": "display_data"
    },
    {
     "data": {
      "image/png": "[encoded data removed]",
      "text/plain": [
       "<Figure size 432x288 with 1 Axes>"
      ]
     },
     "metadata": {
      "needs_background": "light"
     },
     "output_type": "display_data"
    },
    {
     "data": {
      "image/png": "[encoded data removed]",
      "text/plain": [
       "<Figure size 432x288 with 1 Axes>"
      ]
     },
     "metadata": {
      "needs_background": "light"
     },
     "output_type": "display_data"
    },
    {
     "data": {
      "image/png": "[encoded data removed]",
      "text/plain": [
       "<Figure size 432x288 with 1 Axes>"
      ]
     },
     "metadata": {
      "needs_background": "light"
     },
     "output_type": "display_data"
    },
    {
     "data": {
      "image/png": "[encoded data removed]",
      "text/plain": [
       "<Figure size 432x288 with 1 Axes>"
      ]
     },
     "metadata": {
      "needs_background": "light"
     },
     "output_type": "display_data"
    }
   ],
   "source": [
    "weight_update = np.ones(shape=(20,20),dtype=np.float32)\n",
    "x = np.arange(-5,6,1)\n",
    "y = 0.42*np.exp(-x**2/(10))*(np.sign(x)+0.5)\n",
    "z = np.empty((20,11),dtype=np.float32)\n",
    "z[:]=y\n",
    "plt.imshow(z)\n",
    "pad_spikes = np.pad(a.spike_train,((0,0),(5,5)),'constant')\n",
    "plt.figure(figsize=(30,2))\n",
    "plt.imshow(pad_spikes)\n",
    "plt.figure()\n",
    "# print(np.shape(pad_spikes[:,0:0+11]))\n",
    "kkk = 1+z*pad_spikes[:,190:190+11]\n",
    "plt.imshow(1+z*pad_spikes[:,190:190+11])\n",
    "start_index = np.where(pad_spikes[:,198]==1)\n",
    "\n",
    "print(pad_spikes[:,198])\n",
    "print(start_index)\n",
    "p = np.prod(kkk,axis=1)\n",
    "\n",
    "end_index = np.where(p!=1)\n",
    "print(end_index)\n",
    "\n",
    "# print(weight_update[start_index,:][:,end_index])\n",
    "plt.figure()\n",
    "plt.imshow(np.array([p]).T)\n",
    "print(p)\n",
    "\n",
    "weight_update[np.ix_(start_index[0],end_index[0])]*=p[end_index]\n",
    "# print(weight_update)\n",
    "plt.figure()\n",
    "plt.imshow(weight_update)\n",
    "print(np.shape(p[end_index]))\n",
    "for i in range(a.time_steps):\n",
    "    updates = 1 + pad_spikes[:,i:i+11] * z\n",
    "    start_index = np.where(pad_spikes[:,i+5]==1)\n",
    "    updates = np.prod(updates,axis=1)\n",
    "    end_index = np.where(updates!=1)\n",
    "    weight_update[np.ix_(start_index[0],end_index[0])]*=updates[end_index]\n",
    "row, col = np.diag_indices_from(weight_update)\n",
    "weight_update[row,col] = 1.\n",
    "plt.figure()\n",
    "plt.imshow(weight_update)"
   ]
  },
  {
   "cell_type": "code",
   "execution_count": 229,
   "metadata": {},
   "outputs": [
    {
     "data": {
      "text/plain": [
       "<matplotlib.image.AxesImage at 0xb1dc7f8d0>"
      ]
     },
     "execution_count": 229,
     "metadata": {},
     "output_type": "execute_result"
    },
    {
     "data": {
      "image/png": "[encoded data removed]",
      "text/plain": [
       "<Figure size 2160x144 with 1 Axes>"
      ]
     },
     "metadata": {
      "needs_background": "light"
     },
     "output_type": "display_data"
    }
   ],
   "source": [
    "weight_update = np.zeros(shape=(20,20),dtype=np.float32)\n",
    "# plt.imshow(weight_update)\n",
    "from scipy import ndimage\n",
    "c = ndimage.convolve(a.spike_train, z)\n",
    "plt.figure(figsize=(30,2))\n",
    "plt.imshow(c)\n",
    "# for i in range(a.time_steps):\n",
    "    "
   ]
  },
  {
   "cell_type": "code",
   "execution_count": 52,
   "metadata": {},
   "outputs": [
    {
     "data": {
      "text/plain": [
       "0.9999821594038415"
      ]
     },
     "execution_count": 52,
     "metadata": {},
     "output_type": "execute_result"
    },
    {
     "data": {
      "image/png": "[encoded data removed]",
      "text/plain": [
       "<Figure size 432x288 with 1 Axes>"
      ]
     },
     "metadata": {
      "needs_background": "light"
     },
     "output_type": "display_data"
    }
   ],
   "source": [
    "spike_train = np.zeros(50)\n",
    "spike_train[1] = 1\n",
    "psc = np.zeros(50)\n",
    "\n",
    "integ = np.zeros(50)\n",
    "tau = 5\n",
    "decay = 1-1/5\n",
    "\n",
    "temp = 0\n",
    "for i in range(50):\n",
    "    psc[i] = temp * decay + spike_train[i] * (1/5)\n",
    "    temp = psc[i]\n",
    "plt.plot(spike_train)\n",
    "plt.plot(psc)\n",
    "np.sum(psc)\n",
    "\n"
   ]
  },
  {
   "cell_type": "code",
   "execution_count": null,
   "metadata": {},
   "outputs": [],
   "source": []
  }
 ],
 "metadata": {
  "kernelspec": {
   "display_name": "Python 3",
   "language": "python",
   "name": "python3"
  },
  "language_info": {
   "codemirror_mode": {
    "name": "ipython",
    "version": 3
   },
   "file_extension": ".py",
   "mimetype": "text/x-python",
   "name": "python",
   "nbconvert_exporter": "python",
   "pygments_lexer": "ipython3",
   "version": "3.7.1"
  }
 },
 "nbformat": 4,
 "nbformat_minor": 2
}
